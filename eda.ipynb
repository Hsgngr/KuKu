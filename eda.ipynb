{
 "cells": [
  {
   "cell_type": "markdown",
   "metadata": {},
   "source": [
    "# Exploratory Data Analysis"
   ]
  },
  {
   "cell_type": "code",
   "execution_count": 6,
   "metadata": {},
   "outputs": [],
   "source": [
    "# Import libraries\n",
    "import json\n",
    "import pandas as pd"
   ]
  },
  {
   "cell_type": "code",
   "execution_count": 4,
   "metadata": {},
   "outputs": [],
   "source": [
    "csv_file = \"data\\weather.csv\""
   ]
  },
  {
   "cell_type": "code",
   "execution_count": 5,
   "metadata": {},
   "outputs": [
    {
     "name": "stderr",
     "output_type": "stream",
     "text": [
      "C:\\ProgramData\\Anaconda3\\lib\\site-packages\\IPython\\core\\interactiveshell.py:3146: DtypeWarning: Columns (21) have mixed types.Specify dtype option on import or set low_memory=False.\n",
      "  has_raised = await self.run_ast_nodes(code_ast.body, cell_name,\n"
     ]
    }
   ],
   "source": [
    "df = pd.read_csv(csv_file)"
   ]
  },
  {
   "cell_type": "code",
   "execution_count": 9,
   "metadata": {},
   "outputs": [
    {
     "data": {
      "text/plain": [
       "153"
      ]
     },
     "execution_count": 9,
     "metadata": {},
     "output_type": "execute_result"
    }
   ],
   "source": [
    "len(set(df[\"M_SESSION_UID\"]))"
   ]
  },
  {
   "cell_type": "code",
   "execution_count": 49,
   "metadata": {},
   "outputs": [
    {
     "data": {
      "text/plain": [
       "153"
      ]
     },
     "execution_count": 49,
     "metadata": {},
     "output_type": "execute_result"
    }
   ],
   "source": [
    "len(set(df[\"M_SESSION_UID\"]))"
   ]
  },
  {
   "cell_type": "code",
   "execution_count": 30,
   "metadata": {},
   "outputs": [],
   "source": [
    "sessions = []\n",
    "for name, group in df.groupby(\"M_SESSION_UID\"):\n",
    "    sessions.append(group)"
   ]
  },
  {
   "cell_type": "code",
   "execution_count": null,
   "metadata": {},
   "outputs": [],
   "source": []
  },
  {
   "cell_type": "code",
   "execution_count": 40,
   "metadata": {},
   "outputs": [
    {
     "data": {
      "text/html": [
       "<div>\n",
       "<style scoped>\n",
       "    .dataframe tbody tr th:only-of-type {\n",
       "        vertical-align: middle;\n",
       "    }\n",
       "\n",
       "    .dataframe tbody tr th {\n",
       "        vertical-align: top;\n",
       "    }\n",
       "\n",
       "    .dataframe thead th {\n",
       "        text-align: right;\n",
       "    }\n",
       "</style>\n",
       "<table border=\"1\" class=\"dataframe\">\n",
       "  <thead>\n",
       "    <tr style=\"text-align: right;\">\n",
       "      <th></th>\n",
       "      <th>M_PACKET_FORMAT</th>\n",
       "      <th>M_GAME_MAJOR_VERSION</th>\n",
       "      <th>M_GAME_MINOR_VERSION</th>\n",
       "      <th>M_PACKET_VERSION</th>\n",
       "      <th>M_PACKET_ID</th>\n",
       "      <th>M_SESSION_UID</th>\n",
       "      <th>M_SESSION_TIME</th>\n",
       "      <th>M_FRAME_IDENTIFIER</th>\n",
       "      <th>M_PLAYER_CAR_INDEX</th>\n",
       "      <th>M_SECONDARY_PLAYER_CAR_INDEX</th>\n",
       "      <th>...</th>\n",
       "      <th>M_AI_DIFFICULTY</th>\n",
       "      <th>M_PIT_SPEED_LIMIT</th>\n",
       "      <th>M_NETWORK_GAME</th>\n",
       "      <th>M_TOTAL_LAPS</th>\n",
       "      <th>M_STEERING_ASSIST</th>\n",
       "      <th>M_IS_SPECTATING</th>\n",
       "      <th>M_DYNAMIC_RACING_LINE</th>\n",
       "      <th>M_DRSASSIST</th>\n",
       "      <th>M_NUM_MARSHAL_ZONES</th>\n",
       "      <th>Unnamed: 58</th>\n",
       "    </tr>\n",
       "  </thead>\n",
       "  <tbody>\n",
       "    <tr>\n",
       "      <th>365750</th>\n",
       "      <td>2021</td>\n",
       "      <td>1</td>\n",
       "      <td>14</td>\n",
       "      <td>1</td>\n",
       "      <td>1</td>\n",
       "      <td>2.256787e+17</td>\n",
       "      <td>0.01</td>\n",
       "      <td>0</td>\n",
       "      <td>19</td>\n",
       "      <td>255</td>\n",
       "      <td>...</td>\n",
       "      <td>90</td>\n",
       "      <td>80</td>\n",
       "      <td>0.0</td>\n",
       "      <td>200.0</td>\n",
       "      <td>0.0</td>\n",
       "      <td>0.0</td>\n",
       "      <td>0.0</td>\n",
       "      <td>0.0</td>\n",
       "      <td>16.0</td>\n",
       "      <td>NaN</td>\n",
       "    </tr>\n",
       "    <tr>\n",
       "      <th>365751</th>\n",
       "      <td>2021</td>\n",
       "      <td>1</td>\n",
       "      <td>14</td>\n",
       "      <td>1</td>\n",
       "      <td>1</td>\n",
       "      <td>2.256787e+17</td>\n",
       "      <td>0.01</td>\n",
       "      <td>0</td>\n",
       "      <td>19</td>\n",
       "      <td>255</td>\n",
       "      <td>...</td>\n",
       "      <td>90</td>\n",
       "      <td>80</td>\n",
       "      <td>0.0</td>\n",
       "      <td>200.0</td>\n",
       "      <td>0.0</td>\n",
       "      <td>0.0</td>\n",
       "      <td>0.0</td>\n",
       "      <td>0.0</td>\n",
       "      <td>16.0</td>\n",
       "      <td>NaN</td>\n",
       "    </tr>\n",
       "    <tr>\n",
       "      <th>365752</th>\n",
       "      <td>2021</td>\n",
       "      <td>1</td>\n",
       "      <td>14</td>\n",
       "      <td>1</td>\n",
       "      <td>1</td>\n",
       "      <td>2.256787e+17</td>\n",
       "      <td>0.01</td>\n",
       "      <td>0</td>\n",
       "      <td>19</td>\n",
       "      <td>255</td>\n",
       "      <td>...</td>\n",
       "      <td>90</td>\n",
       "      <td>80</td>\n",
       "      <td>0.0</td>\n",
       "      <td>200.0</td>\n",
       "      <td>0.0</td>\n",
       "      <td>0.0</td>\n",
       "      <td>0.0</td>\n",
       "      <td>0.0</td>\n",
       "      <td>16.0</td>\n",
       "      <td>NaN</td>\n",
       "    </tr>\n",
       "    <tr>\n",
       "      <th>365753</th>\n",
       "      <td>2021</td>\n",
       "      <td>1</td>\n",
       "      <td>14</td>\n",
       "      <td>1</td>\n",
       "      <td>1</td>\n",
       "      <td>2.256787e+17</td>\n",
       "      <td>0.01</td>\n",
       "      <td>0</td>\n",
       "      <td>19</td>\n",
       "      <td>255</td>\n",
       "      <td>...</td>\n",
       "      <td>90</td>\n",
       "      <td>80</td>\n",
       "      <td>0.0</td>\n",
       "      <td>200.0</td>\n",
       "      <td>0.0</td>\n",
       "      <td>0.0</td>\n",
       "      <td>0.0</td>\n",
       "      <td>0.0</td>\n",
       "      <td>16.0</td>\n",
       "      <td>NaN</td>\n",
       "    </tr>\n",
       "    <tr>\n",
       "      <th>365754</th>\n",
       "      <td>2021</td>\n",
       "      <td>1</td>\n",
       "      <td>14</td>\n",
       "      <td>1</td>\n",
       "      <td>1</td>\n",
       "      <td>2.256787e+17</td>\n",
       "      <td>0.01</td>\n",
       "      <td>0</td>\n",
       "      <td>19</td>\n",
       "      <td>255</td>\n",
       "      <td>...</td>\n",
       "      <td>90</td>\n",
       "      <td>80</td>\n",
       "      <td>0.0</td>\n",
       "      <td>200.0</td>\n",
       "      <td>0.0</td>\n",
       "      <td>0.0</td>\n",
       "      <td>0.0</td>\n",
       "      <td>0.0</td>\n",
       "      <td>16.0</td>\n",
       "      <td>NaN</td>\n",
       "    </tr>\n",
       "  </tbody>\n",
       "</table>\n",
       "<p>5 rows × 59 columns</p>\n",
       "</div>"
      ],
      "text/plain": [
       "        M_PACKET_FORMAT  M_GAME_MAJOR_VERSION  M_GAME_MINOR_VERSION  \\\n",
       "365750             2021                     1                    14   \n",
       "365751             2021                     1                    14   \n",
       "365752             2021                     1                    14   \n",
       "365753             2021                     1                    14   \n",
       "365754             2021                     1                    14   \n",
       "\n",
       "        M_PACKET_VERSION  M_PACKET_ID  M_SESSION_UID  M_SESSION_TIME  \\\n",
       "365750                 1            1   2.256787e+17            0.01   \n",
       "365751                 1            1   2.256787e+17            0.01   \n",
       "365752                 1            1   2.256787e+17            0.01   \n",
       "365753                 1            1   2.256787e+17            0.01   \n",
       "365754                 1            1   2.256787e+17            0.01   \n",
       "\n",
       "        M_FRAME_IDENTIFIER  M_PLAYER_CAR_INDEX  M_SECONDARY_PLAYER_CAR_INDEX  \\\n",
       "365750                   0                  19                           255   \n",
       "365751                   0                  19                           255   \n",
       "365752                   0                  19                           255   \n",
       "365753                   0                  19                           255   \n",
       "365754                   0                  19                           255   \n",
       "\n",
       "        ...  M_AI_DIFFICULTY  M_PIT_SPEED_LIMIT  M_NETWORK_GAME  M_TOTAL_LAPS  \\\n",
       "365750  ...               90                 80             0.0         200.0   \n",
       "365751  ...               90                 80             0.0         200.0   \n",
       "365752  ...               90                 80             0.0         200.0   \n",
       "365753  ...               90                 80             0.0         200.0   \n",
       "365754  ...               90                 80             0.0         200.0   \n",
       "\n",
       "        M_STEERING_ASSIST  M_IS_SPECTATING  M_DYNAMIC_RACING_LINE  \\\n",
       "365750                0.0              0.0                    0.0   \n",
       "365751                0.0              0.0                    0.0   \n",
       "365752                0.0              0.0                    0.0   \n",
       "365753                0.0              0.0                    0.0   \n",
       "365754                0.0              0.0                    0.0   \n",
       "\n",
       "        M_DRSASSIST  M_NUM_MARSHAL_ZONES  Unnamed: 58  \n",
       "365750          0.0                 16.0          NaN  \n",
       "365751          0.0                 16.0          NaN  \n",
       "365752          0.0                 16.0          NaN  \n",
       "365753          0.0                 16.0          NaN  \n",
       "365754          0.0                 16.0          NaN  \n",
       "\n",
       "[5 rows x 59 columns]"
      ]
     },
     "execution_count": 40,
     "metadata": {},
     "output_type": "execute_result"
    }
   ],
   "source": [
    "first_session = sessions[1]\n",
    "first_session.head()"
   ]
  },
  {
   "cell_type": "code",
   "execution_count": 41,
   "metadata": {},
   "outputs": [],
   "source": [
    "weather_columns= [\"M_SESSION_TIME\",\"TIMESTAMP\",\n",
    "\"M_ZONE_START\",\"M_TRACK_TEMPERATURE\",\"M_TRACK_LENGTH\",\"M_FORECAST_ACCURACY\",\"M_AIR_TEMPERATURE\",\n",
    "\"M_NUM_WEATHER_FORECAST_SAMPLES\",\"M_TRACK_ID\",\"M_SESSION_TIME_LEFT\",\"M_SESSION_DURATION\",\"M_WEATHER_FORECAST_SAMPLES_M_SESSION_TYPE\",\n",
    "\"M_TIME_OFFSET\",\"M_WEATHER_FORECAST_SAMPLES_M_WEATHER\",\"M_WEATHER_FORECAST_SAMPLES_M_TRACK_TEMPERATURE\",\"M_TRACK_TEMPERATURE_CHANGE\",\n",
    "\"M_WEATHER_FORECAST_SAMPLES_M_AIR_TEMPERATURE\",\"M_TRACK_TEMPERATURE_CHANGE\",'M_WEATHER_FORECAST_SAMPLES_M_AIR_TEMPERATURE',\n",
    "'M_AIR_TEMPERATURE_CHANGE', 'M_RAIN_PERCENTAGE', 'M_WEATHER']"
   ]
  },
  {
   "cell_type": "code",
   "execution_count": 42,
   "metadata": {},
   "outputs": [],
   "source": [
    "first_session = first_session[weather_columns]"
   ]
  },
  {
   "cell_type": "code",
   "execution_count": 44,
   "metadata": {},
   "outputs": [
    {
     "data": {
      "text/plain": [
       "39.960     77\n",
       "97.585     77\n",
       "6.537      77\n",
       "55.987     77\n",
       "112.628    77\n",
       "           ..\n",
       "71.013     77\n",
       "115.634    77\n",
       "40.960     77\n",
       "83.543     77\n",
       "61.000     77\n",
       "Name: M_SESSION_TIME, Length: 125, dtype: int64"
      ]
     },
     "execution_count": 44,
     "metadata": {},
     "output_type": "execute_result"
    }
   ],
   "source": [
    "first_session.M_SESSION_TIME.value_counts()"
   ]
  },
  {
   "cell_type": "code",
   "execution_count": 45,
   "metadata": {},
   "outputs": [
    {
     "data": {
      "text/plain": [
       "1.642374e+09    77\n",
       "1.642374e+09    77\n",
       "1.642374e+09    77\n",
       "1.642374e+09    77\n",
       "1.642374e+09    77\n",
       "                ..\n",
       "1.642374e+09    77\n",
       "1.642374e+09    77\n",
       "1.642374e+09    77\n",
       "1.642374e+09    77\n",
       "1.642374e+09    77\n",
       "Name: TIMESTAMP, Length: 125, dtype: int64"
      ]
     },
     "execution_count": 45,
     "metadata": {},
     "output_type": "execute_result"
    }
   ],
   "source": [
    "first_session.TIMESTAMP.value_counts()"
   ]
  },
  {
   "cell_type": "code",
   "execution_count": 46,
   "metadata": {},
   "outputs": [],
   "source": [
    "suitable_sessions = []\n",
    "for session in sessions:\n",
    "    if len(session.TIMESTAMP.value_counts()) > 300:\n",
    "        suitable_sessions.append(session)"
   ]
  },
  {
   "cell_type": "code",
   "execution_count": 48,
   "metadata": {},
   "outputs": [
    {
     "data": {
      "text/plain": [
       "32"
      ]
     },
     "execution_count": 48,
     "metadata": {},
     "output_type": "execute_result"
    }
   ],
   "source": [
    "len(suitable_sessions)"
   ]
  },
  {
   "cell_type": "code",
   "execution_count": null,
   "metadata": {},
   "outputs": [],
   "source": []
  }
 ],
 "metadata": {
  "interpreter": {
   "hash": "b3ba2566441a7c06988d0923437866b63cedc61552a5af99d1f4fb67d367b25f"
  },
  "kernelspec": {
   "display_name": "Python 3.8.5 64-bit ('base': conda)",
   "language": "python",
   "name": "python3"
  },
  "language_info": {
   "codemirror_mode": {
    "name": "ipython",
    "version": 3
   },
   "file_extension": ".py",
   "mimetype": "text/x-python",
   "name": "python",
   "nbconvert_exporter": "python",
   "pygments_lexer": "ipython3",
   "version": "3.8.5"
  },
  "orig_nbformat": 4
 },
 "nbformat": 4,
 "nbformat_minor": 2
}
