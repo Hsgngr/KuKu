{
 "cells": [
  {
   "cell_type": "code",
   "execution_count": 20,
   "metadata": {},
   "outputs": [],
   "source": [
    "import pandas as pd\n",
    "import numpy as np\n",
    "from tqdm import tqdm"
   ]
  },
  {
   "cell_type": "code",
   "execution_count": 4,
   "metadata": {},
   "outputs": [
    {
     "data": {
      "text/html": [
       "<div>\n",
       "<style scoped>\n",
       "    .dataframe tbody tr th:only-of-type {\n",
       "        vertical-align: middle;\n",
       "    }\n",
       "\n",
       "    .dataframe tbody tr th {\n",
       "        vertical-align: top;\n",
       "    }\n",
       "\n",
       "    .dataframe thead th {\n",
       "        text-align: right;\n",
       "    }\n",
       "</style>\n",
       "<table border=\"1\" class=\"dataframe\">\n",
       "  <thead>\n",
       "    <tr style=\"text-align: right;\">\n",
       "      <th></th>\n",
       "      <th>SESSION_TYPE</th>\n",
       "      <th>TRACK_ID</th>\n",
       "      <th>WEATHER_0</th>\n",
       "      <th>TRACK_TEMPERATURE_0</th>\n",
       "      <th>AIR_TEMPERATURE_0</th>\n",
       "      <th>TRACK_TEMPERATURE_CHANGE_0</th>\n",
       "      <th>AIR_TEMPERATURE_CHANGE_0</th>\n",
       "      <th>RAIN_PERCENTAGE_0</th>\n",
       "      <th>WEATHER_5</th>\n",
       "      <th>TRACK_TEMPERATURE_5</th>\n",
       "      <th>...</th>\n",
       "      <th>AIR_TEMPERATURE_90</th>\n",
       "      <th>TRACK_TEMPERATURE_CHANGE_90</th>\n",
       "      <th>AIR_TEMPERATURE_CHANGE_90</th>\n",
       "      <th>RAIN_PERCENTAGE_90</th>\n",
       "      <th>WEATHER_120</th>\n",
       "      <th>TRACK_TEMPERATURE_120</th>\n",
       "      <th>AIR_TEMPERATURE_120</th>\n",
       "      <th>TRACK_TEMPERATURE_CHANGE_120</th>\n",
       "      <th>AIR_TEMPERATURE_CHANGE_120</th>\n",
       "      <th>RAIN_PERCENTAGE_120</th>\n",
       "    </tr>\n",
       "  </thead>\n",
       "  <tbody>\n",
       "    <tr>\n",
       "      <th>0</th>\n",
       "      <td>10.0</td>\n",
       "      <td>3.0</td>\n",
       "      <td>0.0</td>\n",
       "      <td>31.0</td>\n",
       "      <td>25.0</td>\n",
       "      <td>2.0</td>\n",
       "      <td>2.0</td>\n",
       "      <td>2.0</td>\n",
       "      <td>0.0</td>\n",
       "      <td>31.0</td>\n",
       "      <td>...</td>\n",
       "      <td>NaN</td>\n",
       "      <td>NaN</td>\n",
       "      <td>NaN</td>\n",
       "      <td>NaN</td>\n",
       "      <td>NaN</td>\n",
       "      <td>NaN</td>\n",
       "      <td>NaN</td>\n",
       "      <td>NaN</td>\n",
       "      <td>NaN</td>\n",
       "      <td>NaN</td>\n",
       "    </tr>\n",
       "    <tr>\n",
       "      <th>1</th>\n",
       "      <td>10.0</td>\n",
       "      <td>3.0</td>\n",
       "      <td>0.0</td>\n",
       "      <td>31.0</td>\n",
       "      <td>25.0</td>\n",
       "      <td>2.0</td>\n",
       "      <td>2.0</td>\n",
       "      <td>2.0</td>\n",
       "      <td>0.0</td>\n",
       "      <td>31.0</td>\n",
       "      <td>...</td>\n",
       "      <td>NaN</td>\n",
       "      <td>NaN</td>\n",
       "      <td>NaN</td>\n",
       "      <td>NaN</td>\n",
       "      <td>NaN</td>\n",
       "      <td>NaN</td>\n",
       "      <td>NaN</td>\n",
       "      <td>NaN</td>\n",
       "      <td>NaN</td>\n",
       "      <td>NaN</td>\n",
       "    </tr>\n",
       "    <tr>\n",
       "      <th>2</th>\n",
       "      <td>10.0</td>\n",
       "      <td>3.0</td>\n",
       "      <td>0.0</td>\n",
       "      <td>31.0</td>\n",
       "      <td>25.0</td>\n",
       "      <td>2.0</td>\n",
       "      <td>2.0</td>\n",
       "      <td>2.0</td>\n",
       "      <td>0.0</td>\n",
       "      <td>31.0</td>\n",
       "      <td>...</td>\n",
       "      <td>NaN</td>\n",
       "      <td>NaN</td>\n",
       "      <td>NaN</td>\n",
       "      <td>NaN</td>\n",
       "      <td>NaN</td>\n",
       "      <td>NaN</td>\n",
       "      <td>NaN</td>\n",
       "      <td>NaN</td>\n",
       "      <td>NaN</td>\n",
       "      <td>NaN</td>\n",
       "    </tr>\n",
       "    <tr>\n",
       "      <th>3</th>\n",
       "      <td>10.0</td>\n",
       "      <td>3.0</td>\n",
       "      <td>0.0</td>\n",
       "      <td>31.0</td>\n",
       "      <td>25.0</td>\n",
       "      <td>2.0</td>\n",
       "      <td>2.0</td>\n",
       "      <td>2.0</td>\n",
       "      <td>0.0</td>\n",
       "      <td>31.0</td>\n",
       "      <td>...</td>\n",
       "      <td>NaN</td>\n",
       "      <td>NaN</td>\n",
       "      <td>NaN</td>\n",
       "      <td>NaN</td>\n",
       "      <td>NaN</td>\n",
       "      <td>NaN</td>\n",
       "      <td>NaN</td>\n",
       "      <td>NaN</td>\n",
       "      <td>NaN</td>\n",
       "      <td>NaN</td>\n",
       "    </tr>\n",
       "    <tr>\n",
       "      <th>4</th>\n",
       "      <td>10.0</td>\n",
       "      <td>3.0</td>\n",
       "      <td>0.0</td>\n",
       "      <td>31.0</td>\n",
       "      <td>25.0</td>\n",
       "      <td>2.0</td>\n",
       "      <td>2.0</td>\n",
       "      <td>2.0</td>\n",
       "      <td>0.0</td>\n",
       "      <td>31.0</td>\n",
       "      <td>...</td>\n",
       "      <td>NaN</td>\n",
       "      <td>NaN</td>\n",
       "      <td>NaN</td>\n",
       "      <td>NaN</td>\n",
       "      <td>NaN</td>\n",
       "      <td>NaN</td>\n",
       "      <td>NaN</td>\n",
       "      <td>NaN</td>\n",
       "      <td>NaN</td>\n",
       "      <td>NaN</td>\n",
       "    </tr>\n",
       "  </tbody>\n",
       "</table>\n",
       "<p>5 rows × 56 columns</p>\n",
       "</div>"
      ],
      "text/plain": [
       "   SESSION_TYPE  TRACK_ID  WEATHER_0  TRACK_TEMPERATURE_0  AIR_TEMPERATURE_0  \\\n",
       "0          10.0       3.0        0.0                 31.0               25.0   \n",
       "1          10.0       3.0        0.0                 31.0               25.0   \n",
       "2          10.0       3.0        0.0                 31.0               25.0   \n",
       "3          10.0       3.0        0.0                 31.0               25.0   \n",
       "4          10.0       3.0        0.0                 31.0               25.0   \n",
       "\n",
       "   TRACK_TEMPERATURE_CHANGE_0  AIR_TEMPERATURE_CHANGE_0  RAIN_PERCENTAGE_0  \\\n",
       "0                         2.0                       2.0                2.0   \n",
       "1                         2.0                       2.0                2.0   \n",
       "2                         2.0                       2.0                2.0   \n",
       "3                         2.0                       2.0                2.0   \n",
       "4                         2.0                       2.0                2.0   \n",
       "\n",
       "   WEATHER_5  TRACK_TEMPERATURE_5  ...  AIR_TEMPERATURE_90  \\\n",
       "0        0.0                 31.0  ...                 NaN   \n",
       "1        0.0                 31.0  ...                 NaN   \n",
       "2        0.0                 31.0  ...                 NaN   \n",
       "3        0.0                 31.0  ...                 NaN   \n",
       "4        0.0                 31.0  ...                 NaN   \n",
       "\n",
       "   TRACK_TEMPERATURE_CHANGE_90  AIR_TEMPERATURE_CHANGE_90  RAIN_PERCENTAGE_90  \\\n",
       "0                          NaN                        NaN                 NaN   \n",
       "1                          NaN                        NaN                 NaN   \n",
       "2                          NaN                        NaN                 NaN   \n",
       "3                          NaN                        NaN                 NaN   \n",
       "4                          NaN                        NaN                 NaN   \n",
       "\n",
       "   WEATHER_120  TRACK_TEMPERATURE_120  AIR_TEMPERATURE_120  \\\n",
       "0          NaN                    NaN                  NaN   \n",
       "1          NaN                    NaN                  NaN   \n",
       "2          NaN                    NaN                  NaN   \n",
       "3          NaN                    NaN                  NaN   \n",
       "4          NaN                    NaN                  NaN   \n",
       "\n",
       "   TRACK_TEMPERATURE_CHANGE_120  AIR_TEMPERATURE_CHANGE_120  \\\n",
       "0                           NaN                         NaN   \n",
       "1                           NaN                         NaN   \n",
       "2                           NaN                         NaN   \n",
       "3                           NaN                         NaN   \n",
       "4                           NaN                         NaN   \n",
       "\n",
       "   RAIN_PERCENTAGE_120  \n",
       "0                  NaN  \n",
       "1                  NaN  \n",
       "2                  NaN  \n",
       "3                  NaN  \n",
       "4                  NaN  \n",
       "\n",
       "[5 rows x 56 columns]"
      ]
     },
     "execution_count": 4,
     "metadata": {},
     "output_type": "execute_result"
    }
   ],
   "source": [
    "data = pd.read_csv(\"processed.csv\")\n",
    "data = data.drop(\"Unnamed: 0\", axis=1)\n",
    "data.head()"
   ]
  },
  {
   "cell_type": "code",
   "execution_count": 10,
   "metadata": {},
   "outputs": [],
   "source": [
    "time_windows={\n",
    "    5 : [(0,5),(5,10),(10,15)],\n",
    "    10 : [(0,10),(5,15)],\n",
    "    15 : [(0,15),(15,30)],\n",
    "    30 : [(0,30),(30,60), (60,90), (90,120)],\n",
    "    60 : [(0,60),(60,120)]\n",
    "}\n",
    "single_val_cols = ['SESSION_TYPE', 'TRACK_ID']\n",
    "multi_val_cols = ['AIR_TEMPERATURE_CHANGE',\n",
    " 'TRACK_TEMPERATURE',\n",
    " 'WEATHER',\n",
    " 'RAIN_PERCENTAGE',\n",
    " 'TRACK_TEMPERATURE_CHANGE',\n",
    " 'AIR_TEMPERATURE']"
   ]
  },
  {
   "cell_type": "code",
   "execution_count": 24,
   "metadata": {},
   "outputs": [],
   "source": [
    "def create_dataset(time_offset):\n",
    "    rows = []\n",
    "    columns = single_val_cols + multi_val_cols + [\"TARGET\"]\n",
    "    windows = time_windows[time_offset]\n",
    "    for i in tqdm(range(len(data))):\n",
    "        cur_row = data.iloc[i]\n",
    "        for w in windows:\n",
    "            tmp_cols = single_val_cols + [f\"{c}_{w[0]}\" for c in multi_val_cols] + [f\"WEATHER_{w[1]}\"]\n",
    "            if sum(cur_row[tmp_cols].isna()) == 0:\n",
    "                rows.append(np.array(cur_row[tmp_cols]))\n",
    "    df = pd.DataFrame(columns = columns, data=np.array(rows))\n",
    "    return df"
   ]
  },
  {
   "cell_type": "code",
   "execution_count": 25,
   "metadata": {},
   "outputs": [
    {
     "name": "stderr",
     "output_type": "stream",
     "text": [
      "100%|██████████| 104964/104964 [04:51<00:00, 360.31it/s]\n"
     ]
    }
   ],
   "source": [
    "df_5_min = create_dataset(5)"
   ]
  },
  {
   "cell_type": "code",
   "execution_count": 26,
   "metadata": {},
   "outputs": [],
   "source": [
    "df_5_min.to_csv(\"processed_5min.csv\")"
   ]
  },
  {
   "cell_type": "code",
   "execution_count": 34,
   "metadata": {},
   "outputs": [
    {
     "name": "stdout",
     "output_type": "stream",
     "text": [
      "        SESSION_TYPE  TRACK_ID  AIR_TEMPERATURE_CHANGE  TRACK_TEMPERATURE  \\\n",
      "0               10.0       3.0                     2.0               31.0   \n",
      "1               10.0       3.0                     2.0               31.0   \n",
      "2               10.0       3.0                     2.0               31.0   \n",
      "3               10.0       3.0                     2.0               31.0   \n",
      "4               10.0       3.0                     2.0               31.0   \n",
      "...              ...       ...                     ...                ...   \n",
      "292576           8.0      28.0                     2.0               33.0   \n",
      "292577           8.0      28.0                     2.0               33.0   \n",
      "292578          10.0      28.0                     2.0               33.0   \n",
      "292579          10.0      28.0                     2.0               33.0   \n",
      "292580          10.0      28.0                     2.0               33.0   \n",
      "\n",
      "        RAIN_PERCENTAGE  TRACK_TEMPERATURE_CHANGE  AIR_TEMPERATURE  \n",
      "0                   2.0                       2.0             25.0  \n",
      "1                   2.0                       2.0             25.0  \n",
      "2                   2.0                       2.0             25.0  \n",
      "3                   2.0                       2.0             25.0  \n",
      "4                   2.0                       2.0             25.0  \n",
      "...                 ...                       ...              ...  \n",
      "292576              3.0                       2.0             25.0  \n",
      "292577              3.0                       2.0             25.0  \n",
      "292578              3.0                       2.0             25.0  \n",
      "292579              3.0                       2.0             25.0  \n",
      "292580              3.0                       2.0             25.0  \n",
      "\n",
      "[292581 rows x 7 columns]\n",
      "Train Acc: 0.9940187299200218\n",
      "Train F1: [0.99607866 0.98819462 0.99334652 1.        ]\n",
      "Test Acc: 0.9943264350530615\n",
      "Test F1: [0.996302   0.98884184 0.99301676 1.        ]\n"
     ]
    }
   ],
   "source": [
    "from sklearn.model_selection import train_test_split\n",
    "from sklearn.ensemble import RandomForestClassifier\n",
    "from sklearn.metrics import accuracy_score, f1_score\n",
    "\n",
    "X = df_5_min.drop([\"WEATHER\", \"TARGET\"], axis=1)\n",
    "y = df_5_min[\"TARGET\"]\n",
    "\n",
    "X_train, X_test, y_train, y_test = train_test_split(X, y, test_size=0.2, random_state=42)\n",
    "\n",
    "clf = RandomForestClassifier(max_depth=10, random_state=0)\n",
    "clf.fit(X_train, y_train)\n",
    "y_pred_train = clf.predict(X_train)\n",
    "y_pred_test = clf.predict(X_test)\n",
    "\n",
    "print(\"Train Acc: {}\".format(accuracy_score(y_train, y_pred_train)))\n",
    "print(\"Train F1: {}\".format(f1_score(y_train, y_pred_train, average=None)))\n",
    "print(\"Test Acc: {}\".format(accuracy_score(y_test, y_pred_test)))\n",
    "print(\"Test F1: {}\".format(f1_score(y_test, y_pred_test, average=None)))\n",
    "\n"
   ]
  },
  {
   "cell_type": "code",
   "execution_count": 32,
   "metadata": {},
   "outputs": [
    {
     "name": "stdout",
     "output_type": "stream",
     "text": [
      "Test Acc: 0.9609344293111404\n",
      "Test F1: [0.9781171  0.92253354 0.86684701 0.87804878]\n"
     ]
    }
   ],
   "source": [
    "print(\"Test Acc: {}\".format(accuracy_score(y_test, X_test[\"WEATHER\"])))\n",
    "print(\"Test F1: {}\".format(f1_score(y_test, X_test[\"WEATHER\"], average=None)))"
   ]
  },
  {
   "cell_type": "code",
   "execution_count": 35,
   "metadata": {},
   "outputs": [
    {
     "data": {
      "image/png": "[encoded data removed]",
      "text/plain": [
       "<Figure size 640x480 with 1 Axes>"
      ]
     },
     "metadata": {},
     "output_type": "display_data"
    }
   ],
   "source": [
    "import matplotlib.pyplot as plt\n",
    "plt.hist(y_train)\n",
    "plt.show()"
   ]
  },
  {
   "cell_type": "code",
   "execution_count": 36,
   "metadata": {},
   "outputs": [
    {
     "data": {
      "image/png": "[encoded data removed]",
      "text/plain": [
       "<Figure size 640x480 with 1 Axes>"
      ]
     },
     "metadata": {},
     "output_type": "display_data"
    }
   ],
   "source": [
    "plt.hist(y_test)\n",
    "plt.show()"
   ]
  },
  {
   "cell_type": "code",
   "execution_count": 38,
   "metadata": {},
   "outputs": [
    {
     "data": {
      "text/plain": [
       "{0.0, 1.0, 2.0, 3.0}"
      ]
     },
     "execution_count": 38,
     "metadata": {},
     "output_type": "execute_result"
    }
   ],
   "source": [
    "set(y_test)"
   ]
  }
 ],
 "metadata": {
  "kernelspec": {
   "display_name": "Python 3",
   "language": "python",
   "name": "python3"
  },
  "language_info": {
   "codemirror_mode": {
    "name": "ipython",
    "version": 3
   },
   "file_extension": ".py",
   "mimetype": "text/x-python",
   "name": "python",
   "nbconvert_exporter": "python",
   "pygments_lexer": "ipython3",
   "version": "3.8.10"
  }
 },
 "nbformat": 4,
 "nbformat_minor": 4
}
