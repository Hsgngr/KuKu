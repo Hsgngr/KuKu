{
 "cells": [
  {
   "cell_type": "code",
   "execution_count": null,
   "metadata": {},
   "outputs": [],
   "source": [
    "%load_ext autoreload\n",
    "%autoreload 2\n",
    "import pandas as pd\n",
    "import numpy as np\n",
    "import os.path as op\n",
    "import random\n",
    "from data_prep import prepare_datasets, get_dfs"
   ]
  },
  {
   "cell_type": "markdown",
   "metadata": {},
   "source": [
    "# Read Data"
   ]
  },
  {
   "cell_type": "code",
   "execution_count": null,
   "metadata": {
    "scrolled": false
   },
   "outputs": [],
   "source": [
    "seed = 42\n",
    "random.seed(seed)\n",
    "np.random.seed(seed)\n",
    "\n",
    "if op.exists(op.join(\"data\", \"train.csv\")) and op.exists(op.join(\"data\", \"val.csv\")) and op.exists(op.join(\"data\", \"test.csv\")):\n",
    "    train_df = pd.read_csv(op.join(\"data\",\"train.csv\"))\n",
    "    val_df = pd.read_csv(op.join(\"data\",\"val.csv\"))\n",
    "    test_df = pd.read_csv(op.join(\"data\",\"test.csv\"))\n",
    "else:\n",
    "    train_df, val_df, test_df = prepare_datasets(op.join(\"data\",\"weather.csv\"))\n",
    "df_dct = {\"train\": train_df, \"val\": val_df, \"test\": test_df}\n",
    "df_timed_dct = get_dfs(df_dct)\n"
   ]
  },
  {
   "cell_type": "code",
   "execution_count": null,
   "metadata": {},
   "outputs": [],
   "source": [
    "for time_offset in df_timed_dct:\n",
    "    print(time_offset)\n",
    "    print(\"train\", df_timed_dct[time_offset][\"train\"].shape)\n",
    "    print(\"val\", df_timed_dct[time_offset][\"val\"].shape)\n",
    "    print(\"test\", df_timed_dct[time_offset][\"test\"].shape)\n",
    "    print()"
   ]
  },
  {
   "cell_type": "markdown",
   "metadata": {},
   "source": [
    "## Weather"
   ]
  },
  {
   "cell_type": "code",
   "execution_count": null,
   "metadata": {},
   "outputs": [],
   "source": [
    "from sklearn.model_selection import train_test_split\n",
    "from sklearn.ensemble import RandomForestClassifier\n",
    "from sklearn.metrics import accuracy_score, f1_score, mean_absolute_error, mean_absolute_percentage_error\n",
    "\n",
    "\n",
    "def get_predict(dfs, model, problem_name, target_col, drop_cols, metric_func):\n",
    "    X_train = dfs[\"train\"].drop(drop_cols, axis=1)\n",
    "    y_train = dfs[\"train\"][target_col]\n",
    "    X_val = dfs[\"val\"].drop(drop_cols, axis=1)\n",
    "    y_val = dfs[\"val\"][target_col]\n",
    "    X_test = dfs[\"test\"].drop(drop_cols, axis=1)\n",
    "    y_test = dfs[\"test\"][target_col]\n",
    "\n",
    "    model.fit(X_train, y_train)\n",
    "    y_pred_train = model.predict(X_train)\n",
    "    y_pred_val = model.predict(X_val)\n",
    "    y_pred_test = model.predict(X_test)\n",
    "    print(problem_name)\n",
    "    metric_func(y_train, y_val, y_test, y_pred_train, y_pred_val, y_pred_test)\n",
    "\n",
    "def get_classification_metrics(y_train, y_val, y_test, y_pred_train, y_pred_val, y_pred_test):\n",
    "    print(\"Train Acc: {}\".format(accuracy_score(y_train, y_pred_train)))\n",
    "    print(\"Train F1: {}\".format(f1_score(y_train, y_pred_train, average=None)))\n",
    "    print(\"Val Acc: {}\".format(accuracy_score(y_val, y_pred_val)))\n",
    "    print(\"Val F1: {}\".format(f1_score(y_val, y_pred_val, average=None)))\n",
    "    print(\"Test Acc: {}\".format(accuracy_score(y_test, y_pred_test)))\n",
    "    print(\"Test F1: {}\".format(f1_score(y_test, y_pred_test, average=None)))\n",
    "    print()\n",
    "\n",
    "def get_regression_metrics(y_train, y_val, y_test, y_pred_train, y_pred_val, y_pred_test):\n",
    "    print(\"Train MAE: {}\".format(mean_absolute_error(y_train, y_pred_train)))\n",
    "    print(\"Train MAPE: {}%\".format(mean_absolute_percentage_error(y_train, y_pred_train) * 100))\n",
    "    print(\"Val MAE: {}\".format(mean_absolute_error(y_val, y_pred_val)))\n",
    "    print(\"Val MAPE: {}%\".format(mean_absolute_percentage_error(y_val, y_pred_val) * 100))\n",
    "    print(\"Test MAE: {}\".format(mean_absolute_error(y_test, y_pred_test)))\n",
    "    print(\"Test MAPE Percantage: {}%\".format(mean_absolute_percentage_error(y_test, y_pred_test) * 100))\n",
    "    print()\n",
    "\n"
   ]
  },
  {
   "cell_type": "code",
   "execution_count": null,
   "metadata": {},
   "outputs": [],
   "source": [
    "model = RandomForestClassifier(max_depth=10, random_state=0)\n",
    "for time_offset in df_timed_dct:\n",
    "    get_predict(df_timed_dct[time_offset], model, f\"Weather {time_offset} Min\", [\"TARGET_WEATHER\"], \n",
    "                [\"TARGET_WEATHER\",\"TARGET_RAIN_PERCENTAGE\"], get_classification_metrics)"
   ]
  },
  {
   "cell_type": "markdown",
   "metadata": {},
   "source": [
    "## RAIN_PERCENTAGE"
   ]
  },
  {
   "cell_type": "code",
   "execution_count": null,
   "metadata": {},
   "outputs": [],
   "source": [
    "from sklearn.ensemble import RandomForestRegressor\n",
    "\n",
    "model = RandomForestRegressor(max_depth=10, random_state=0)\n",
    "for time_offset in df_timed_dct:\n",
    "    get_predict(df_timed_dct[time_offset], model, f\"Weather {time_offset} Min\", [\"TARGET_RAIN_PERCENTAGE\"], \n",
    "                [\"TARGET_WEATHER\",\"TARGET_RAIN_PERCENTAGE\"], get_regression_metrics)"
   ]
  },
  {
   "cell_type": "markdown",
   "metadata": {},
   "source": [
    "## Class Distribution"
   ]
  },
  {
   "cell_type": "code",
   "execution_count": null,
   "metadata": {},
   "outputs": [],
   "source": [
    "import matplotlib.pyplot as plt\n",
    "plt.hist(y_train)\n",
    "plt.show()"
   ]
  },
  {
   "cell_type": "code",
   "execution_count": null,
   "metadata": {},
   "outputs": [],
   "source": [
    "plt.hist(y_test)\n",
    "plt.show()"
   ]
  },
  {
   "cell_type": "code",
   "execution_count": null,
   "metadata": {},
   "outputs": [],
   "source": [
    "set(y_test)"
   ]
  },
  {
   "cell_type": "code",
   "execution_count": null,
   "metadata": {},
   "outputs": [],
   "source": []
  }
 ],
 "metadata": {
  "kernelspec": {
   "display_name": "Python 3.7.6 64-bit ('root_env')",
   "language": "python",
   "name": "python376jvsc74a57bd06f11abc403c4bb51702522ac19e955b2cda40c056abb9afc0943d20e9cf9da90"
  },
  "language_info": {
   "codemirror_mode": {
    "name": "ipython",
    "version": 3
   },
   "file_extension": ".py",
   "mimetype": "text/x-python",
   "name": "python",
   "nbconvert_exporter": "python",
   "pygments_lexer": "ipython3",
   "version": "3.7.6"
  }
 },
 "nbformat": 4,
 "nbformat_minor": 4
}
