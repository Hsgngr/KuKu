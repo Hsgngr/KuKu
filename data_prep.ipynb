{
 "cells": [
  {
   "cell_type": "code",
   "execution_count": 1,
   "metadata": {},
   "outputs": [],
   "source": [
    "import pandas as pd\n",
    "import numpy as np\n",
    "import matplotlib.pyplot as plt\n",
    "from tqdm.notebook import tqdm\n",
    "from collections import Counter"
   ]
  },
  {
   "cell_type": "code",
   "execution_count": 2,
   "metadata": {},
   "outputs": [
    {
     "name": "stderr",
     "output_type": "stream",
     "text": [
      "/opt/anaconda3/lib/python3.8/site-packages/IPython/core/interactiveshell.py:3418: DtypeWarning: Columns (21) have mixed types.Specify dtype option on import or set low_memory=False.\n",
      "  exec(code_obj, self.user_global_ns, self.user_ns)\n"
     ]
    }
   ],
   "source": [
    "data = pd.read_csv(\"weather.csv\")\n",
    "data = data.drop([\"Unnamed: 58\"],axis=1)"
   ]
  },
  {
   "cell_type": "code",
   "execution_count": 3,
   "metadata": {},
   "outputs": [
    {
     "data": {
      "application/vnd.jupyter.widget-view+json": {
       "model_id": "b91ab95ba6be4d01a4116bc546b76fc7",
       "version_major": 2,
       "version_minor": 0
      },
      "text/plain": [
       "HBox(children=(HTML(value=''), FloatProgress(value=0.0, max=153.0), HTML(value='')))"
      ]
     },
     "metadata": {},
     "output_type": "display_data"
    },
    {
     "name": "stdout",
     "output_type": "stream",
     "text": [
      "\n"
     ]
    },
    {
     "data": {
      "text/plain": [
       "Counter({77: 46393, 67: 1})"
      ]
     },
     "execution_count": 3,
     "metadata": {},
     "output_type": "execute_result"
    }
   ],
   "source": [
    "dct = {}\n",
    "for sid in tqdm(set(data[\"M_SESSION_UID\"])):\n",
    "    data_ss = data[data[\"M_SESSION_UID\"] ==sid]\n",
    "    for ts in set(data_ss[\"TIMESTAMP\"]):\n",
    "        dct[(sid,ts)] = data_ss[data_ss[\"TIMESTAMP\"] == ts]\n",
    "Counter(list(map(lambda x: len(x), dct.values())))"
   ]
  },
  {
   "cell_type": "code",
   "execution_count": 4,
   "metadata": {},
   "outputs": [
    {
     "data": {
      "text/plain": [
       "(Counter({3: 3014,\n",
       "          10: 19141,\n",
       "          0: 10743,\n",
       "          27: 164,\n",
       "          9: 3665,\n",
       "          48: 8267,\n",
       "          7: 1322,\n",
       "          6: 78}),\n",
       " 35651)"
      ]
     },
     "execution_count": 4,
     "metadata": {},
     "output_type": "execute_result"
    }
   ],
   "source": [
    "ls = []\n",
    "sid_ts_table = {}\n",
    "for (sid,ts),table in dct.items():\n",
    "    num_samples = np.array(list(table[\"M_NUM_WEATHER_FORECAST_SAMPLES\"]))\n",
    "    assert np.all(num_samples[0] == num_samples)\n",
    "    num_samples = num_samples[0]\n",
    "    ls.append(num_samples)\n",
    "    if num_samples!=0:\n",
    "        sid_ts_table[(sid,ts)] = dct[(sid,ts)]\n",
    "Counter(ls), len(sid_ts_table)"
   ]
  },
  {
   "cell_type": "code",
   "execution_count": 38,
   "metadata": {},
   "outputs": [],
   "source": [
    "forecast_sample_cols = [\n",
    "    'M_WEATHER_FORECAST_SAMPLES_M_SESSION_TYPE',\n",
    "    'M_WEATHER_FORECAST_SAMPLES_M_WEATHER',\n",
    "    'M_WEATHER_FORECAST_SAMPLES_M_TRACK_TEMPERATURE',\n",
    "    'M_WEATHER_FORECAST_SAMPLES_M_AIR_TEMPERATURE',\n",
    "    'M_TIME_OFFSET',\n",
    "    'M_TRACK_TEMPERATURE_CHANGE',\n",
    "    'M_AIR_TEMPERATURE_CHANGE',\n",
    "    'M_RAIN_PERCENTAGE']\n",
    "\n",
    "for (sid,ts),table in sid_ts_table.items():\n",
    "    num_samples = list(table[\"M_NUM_WEATHER_FORECAST_SAMPLES\"])[0]\n",
    "    ses_type = table[\"M_WEATHER_FORECAST_SAMPLES_M_SESSION_TYPE\"]\n",
    "    num_nans = ses_type.isna().sum()\n",
    "    assert np.isnan(ses_type[:num_nans]).sum() == num_nans\n",
    "    assert np.all(ses_type[num_nans+num_samples:] == 0)"
   ]
  },
  {
   "cell_type": "code",
   "execution_count": 35,
   "metadata": {},
   "outputs": [
    {
     "data": {
      "text/plain": [
       "(Counter({3: 3014, 10: 19141, 27: 164, 9: 3665, 48: 8267, 7: 1322, 6: 78}),\n",
       " 644403)"
      ]
     },
     "execution_count": 35,
     "metadata": {},
     "output_type": "execute_result"
    }
   ],
   "source": [
    "sid_ts_filtered = {}\n",
    "for (sid,ts),table in sid_ts_table.items():\n",
    "    num_samples = list(table[\"M_NUM_WEATHER_FORECAST_SAMPLES\"])[0]\n",
    "    ses_type = table[\"M_WEATHER_FORECAST_SAMPLES_M_SESSION_TYPE\"]\n",
    "    num_nans = ses_type.isna().sum()\n",
    "    sid_ts_filtered[(sid,ts)] = table.iloc[num_nans:num_nans+num_samples]\n",
    "lens = [len(el) for el in sid_ts_filtered.values()]\n",
    "Counter(lens), sum(lens)"
   ]
  },
  {
   "cell_type": "code",
   "execution_count": 82,
   "metadata": {},
   "outputs": [],
   "source": [
    "sid_ts_filtered_cols_dropped = {k:v[forecast_sample_cols+[\"M_TRACK_ID\"]] for k,v in sid_ts_filtered.items()}"
   ]
  },
  {
   "cell_type": "code",
   "execution_count": 84,
   "metadata": {},
   "outputs": [
    {
     "data": {
      "text/html": [
       "<div>\n",
       "<style scoped>\n",
       "    .dataframe tbody tr th:only-of-type {\n",
       "        vertical-align: middle;\n",
       "    }\n",
       "\n",
       "    .dataframe tbody tr th {\n",
       "        vertical-align: top;\n",
       "    }\n",
       "\n",
       "    .dataframe thead th {\n",
       "        text-align: right;\n",
       "    }\n",
       "</style>\n",
       "<table border=\"1\" class=\"dataframe\">\n",
       "  <thead>\n",
       "    <tr style=\"text-align: right;\">\n",
       "      <th></th>\n",
       "      <th>M_WEATHER_FORECAST_SAMPLES_M_SESSION_TYPE</th>\n",
       "      <th>M_WEATHER_FORECAST_SAMPLES_M_WEATHER</th>\n",
       "      <th>M_WEATHER_FORECAST_SAMPLES_M_TRACK_TEMPERATURE</th>\n",
       "      <th>M_WEATHER_FORECAST_SAMPLES_M_AIR_TEMPERATURE</th>\n",
       "      <th>M_TIME_OFFSET</th>\n",
       "      <th>M_TRACK_TEMPERATURE_CHANGE</th>\n",
       "      <th>M_AIR_TEMPERATURE_CHANGE</th>\n",
       "      <th>M_RAIN_PERCENTAGE</th>\n",
       "      <th>M_TRACK_ID</th>\n",
       "    </tr>\n",
       "  </thead>\n",
       "  <tbody>\n",
       "    <tr>\n",
       "      <th>114751</th>\n",
       "      <td>10.0</td>\n",
       "      <td>0.0</td>\n",
       "      <td>31.0</td>\n",
       "      <td>25.0</td>\n",
       "      <td>0.0</td>\n",
       "      <td>2.0</td>\n",
       "      <td>2.0</td>\n",
       "      <td>2.0</td>\n",
       "      <td>3</td>\n",
       "    </tr>\n",
       "    <tr>\n",
       "      <th>114752</th>\n",
       "      <td>10.0</td>\n",
       "      <td>0.0</td>\n",
       "      <td>31.0</td>\n",
       "      <td>25.0</td>\n",
       "      <td>5.0</td>\n",
       "      <td>2.0</td>\n",
       "      <td>2.0</td>\n",
       "      <td>2.0</td>\n",
       "      <td>3</td>\n",
       "    </tr>\n",
       "    <tr>\n",
       "      <th>114753</th>\n",
       "      <td>10.0</td>\n",
       "      <td>0.0</td>\n",
       "      <td>31.0</td>\n",
       "      <td>25.0</td>\n",
       "      <td>10.0</td>\n",
       "      <td>2.0</td>\n",
       "      <td>2.0</td>\n",
       "      <td>1.0</td>\n",
       "      <td>3</td>\n",
       "    </tr>\n",
       "  </tbody>\n",
       "</table>\n",
       "</div>"
      ],
      "text/plain": [
       "        M_WEATHER_FORECAST_SAMPLES_M_SESSION_TYPE  \\\n",
       "114751                                       10.0   \n",
       "114752                                       10.0   \n",
       "114753                                       10.0   \n",
       "\n",
       "        M_WEATHER_FORECAST_SAMPLES_M_WEATHER  \\\n",
       "114751                                   0.0   \n",
       "114752                                   0.0   \n",
       "114753                                   0.0   \n",
       "\n",
       "        M_WEATHER_FORECAST_SAMPLES_M_TRACK_TEMPERATURE  \\\n",
       "114751                                            31.0   \n",
       "114752                                            31.0   \n",
       "114753                                            31.0   \n",
       "\n",
       "        M_WEATHER_FORECAST_SAMPLES_M_AIR_TEMPERATURE  M_TIME_OFFSET  \\\n",
       "114751                                          25.0            0.0   \n",
       "114752                                          25.0            5.0   \n",
       "114753                                          25.0           10.0   \n",
       "\n",
       "        M_TRACK_TEMPERATURE_CHANGE  M_AIR_TEMPERATURE_CHANGE  \\\n",
       "114751                         2.0                       2.0   \n",
       "114752                         2.0                       2.0   \n",
       "114753                         2.0                       2.0   \n",
       "\n",
       "        M_RAIN_PERCENTAGE  M_TRACK_ID  \n",
       "114751                2.0           3  \n",
       "114752                2.0           3  \n",
       "114753                1.0           3  "
      ]
     },
     "execution_count": 84,
     "metadata": {},
     "output_type": "execute_result"
    }
   ],
   "source": [
    "sid_ts_filtered_cols_dropped[list(sid_ts_filtered_cols_dropped.keys())[0]]"
   ]
  },
  {
   "cell_type": "code",
   "execution_count": 86,
   "metadata": {},
   "outputs": [],
   "source": [
    "final_df = {}\n",
    "for (sid,ts),table in sid_ts_filtered_cols_dropped.items():\n",
    "    for sess_type in set(table[\"M_WEATHER_FORECAST_SAMPLES_M_SESSION_TYPE\"]):\n",
    "        final_df[(sid,ts,sess_type)] = table[table[\"M_WEATHER_FORECAST_SAMPLES_M_SESSION_TYPE\"]==sess_type]\n",
    " "
   ]
  },
  {
   "cell_type": "code",
   "execution_count": 87,
   "metadata": {},
   "outputs": [
    {
     "data": {
      "text/plain": [
       "539439"
      ]
     },
     "execution_count": 87,
     "metadata": {},
     "output_type": "execute_result"
    }
   ],
   "source": [
    "sum([len(el)-1 for el in final_df.values()])"
   ]
  },
  {
   "cell_type": "code",
   "execution_count": 88,
   "metadata": {},
   "outputs": [
    {
     "data": {
      "text/plain": [
       "104964"
      ]
     },
     "execution_count": 88,
     "metadata": {},
     "output_type": "execute_result"
    }
   ],
   "source": [
    "len(final_df)"
   ]
  },
  {
   "cell_type": "code",
   "execution_count": null,
   "metadata": {},
   "outputs": [],
   "source": []
  }
 ],
 "metadata": {
  "kernelspec": {
   "display_name": "Python 3",
   "language": "python",
   "name": "python3"
  },
  "language_info": {
   "codemirror_mode": {
    "name": "ipython",
    "version": 3
   },
   "file_extension": ".py",
   "mimetype": "text/x-python",
   "name": "python",
   "nbconvert_exporter": "python",
   "pygments_lexer": "ipython3",
   "version": "3.8.5"
  }
 },
 "nbformat": 4,
 "nbformat_minor": 4
}
